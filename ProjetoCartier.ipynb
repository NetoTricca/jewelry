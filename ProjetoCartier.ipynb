{
  "nbformat": 4,
  "nbformat_minor": 0,
  "metadata": {
    "colab": {
      "name": "ProjetoCartier.ipynb",
      "provenance": [],
      "collapsed_sections": []
    },
    "kernelspec": {
      "name": "python3",
      "display_name": "Python 3"
    },
    "language_info": {
      "name": "python"
    }
  },
  "cells": [
    {
      "cell_type": "code",
      "metadata": {
        "id": "ZJOOYdm3RbPW"
      },
      "source": [
        "#Importando as bibliotecas e formatando saida de valores com 2 casas decimais\n",
        "import pandas as pd\n",
        "import matplotlib.pyplot as plt\n",
        "plt.style.use(\"seaborn\")\n",
        "pd.options.display.float_format='{:20,.2f}'.format  "
      ],
      "execution_count": 1,
      "outputs": []
    },
    {
      "cell_type": "code",
      "metadata": {
        "id": "XGfXIT6MSFl9"
      },
      "source": [
        "#Criando o DataFrame do Catalogo Cartier\n",
        "#Fonte Dataset -> https://www.kaggle.com/marcelopesse/cartier-jewelry-catalog\n",
        "df = pd.read_csv(\"/content/cartier_catalog.csv\")"
      ],
      "execution_count": 3,
      "outputs": []
    },
    {
      "cell_type": "code",
      "metadata": {
        "colab": {
          "base_uri": "https://localhost:8080/",
          "height": 204
        },
        "id": "M-ND7RerSdMA",
        "outputId": "18b58cce-e0a8-406f-ba36-08b56eded918"
      },
      "source": [
        "#Visualizando as primeiras linhas\n",
        "df.head()"
      ],
      "execution_count": 4,
      "outputs": [
        {
          "output_type": "execute_result",
          "data": {
            "text/html": [
              "<div>\n",
              "<style scoped>\n",
              "    .dataframe tbody tr th:only-of-type {\n",
              "        vertical-align: middle;\n",
              "    }\n",
              "\n",
              "    .dataframe tbody tr th {\n",
              "        vertical-align: top;\n",
              "    }\n",
              "\n",
              "    .dataframe thead th {\n",
              "        text-align: right;\n",
              "    }\n",
              "</style>\n",
              "<table border=\"1\" class=\"dataframe\">\n",
              "  <thead>\n",
              "    <tr style=\"text-align: right;\">\n",
              "      <th></th>\n",
              "      <th>ref</th>\n",
              "      <th>categorie</th>\n",
              "      <th>title</th>\n",
              "      <th>price</th>\n",
              "      <th>tags</th>\n",
              "      <th>description</th>\n",
              "      <th>image</th>\n",
              "    </tr>\n",
              "  </thead>\n",
              "  <tbody>\n",
              "    <tr>\n",
              "      <th>0</th>\n",
              "      <td>B4084600</td>\n",
              "      <td>rings</td>\n",
              "      <td>Love ring</td>\n",
              "      <td>1,650.00</td>\n",
              "      <td>yellow gold</td>\n",
              "      <td>Love ring, 18K yellow gold. Width: 5.5mm.</td>\n",
              "      <td>/content/dam/rcq/car/58/71/74/587174.png</td>\n",
              "    </tr>\n",
              "    <tr>\n",
              "      <th>1</th>\n",
              "      <td>B4084900</td>\n",
              "      <td>rings</td>\n",
              "      <td>Love ring</td>\n",
              "      <td>3,650.00</td>\n",
              "      <td>platinum</td>\n",
              "      <td>Love ring, 950/1000 platinum. Width: 5.5mm.</td>\n",
              "      <td>/content/dam/rcq/car/19/43/98/1/1943981.png</td>\n",
              "    </tr>\n",
              "    <tr>\n",
              "      <th>2</th>\n",
              "      <td>B4084800</td>\n",
              "      <td>rings</td>\n",
              "      <td>Love ring</td>\n",
              "      <td>1,650.00</td>\n",
              "      <td>pink gold</td>\n",
              "      <td>Love ring, 18K rose gold. Width: 5.5mm.</td>\n",
              "      <td>/content/dam/rcq/car/10/28/64/0/1028640.png</td>\n",
              "    </tr>\n",
              "    <tr>\n",
              "      <th>3</th>\n",
              "      <td>B4084700</td>\n",
              "      <td>rings</td>\n",
              "      <td>Love ring</td>\n",
              "      <td>1,770.00</td>\n",
              "      <td>white gold</td>\n",
              "      <td>Love ring, 18K white gold. Width: 5.5mm.</td>\n",
              "      <td>/content/dam/rcq/car/10/28/63/6/1028636.png</td>\n",
              "    </tr>\n",
              "    <tr>\n",
              "      <th>4</th>\n",
              "      <td>B4085000</td>\n",
              "      <td>rings</td>\n",
              "      <td>Love wedding band</td>\n",
              "      <td>1,070.00</td>\n",
              "      <td>yellow gold</td>\n",
              "      <td>Love wedding band, 18K yellow gold. Width: 3.6mm.</td>\n",
              "      <td>/content/dam/rcq/car/59/18/04/591804.png</td>\n",
              "    </tr>\n",
              "  </tbody>\n",
              "</table>\n",
              "</div>"
            ],
            "text/plain": [
              "         ref  ...                                        image\n",
              "0   B4084600  ...     /content/dam/rcq/car/58/71/74/587174.png\n",
              "1   B4084900  ...  /content/dam/rcq/car/19/43/98/1/1943981.png\n",
              "2   B4084800  ...  /content/dam/rcq/car/10/28/64/0/1028640.png\n",
              "3   B4084700  ...  /content/dam/rcq/car/10/28/63/6/1028636.png\n",
              "4   B4085000  ...     /content/dam/rcq/car/59/18/04/591804.png\n",
              "\n",
              "[5 rows x 7 columns]"
            ]
          },
          "metadata": {},
          "execution_count": 4
        }
      ]
    },
    {
      "cell_type": "code",
      "metadata": {
        "id": "xlx2EZwjZwfI"
      },
      "source": [
        "#Renomenado colunas e apagando uma coluna desnecessaria\n",
        "df.drop(columns=\"image\", inplace=True)\n",
        "df.rename(columns={\"categorie\":\"categoria\", \"title\":\"titulo\", \"price\":\"preco\",\"description\":\"descricao\"}, inplace=True)"
      ],
      "execution_count": 5,
      "outputs": []
    },
    {
      "cell_type": "code",
      "metadata": {
        "colab": {
          "base_uri": "https://localhost:8080/",
          "height": 204
        },
        "id": "TR6cZIiP1504",
        "outputId": "bba76276-3f7b-4f0b-c68f-cb5925874774"
      },
      "source": [
        "#Visualizando e confirmando alterações\n",
        "df.head()"
      ],
      "execution_count": 6,
      "outputs": [
        {
          "output_type": "execute_result",
          "data": {
            "text/html": [
              "<div>\n",
              "<style scoped>\n",
              "    .dataframe tbody tr th:only-of-type {\n",
              "        vertical-align: middle;\n",
              "    }\n",
              "\n",
              "    .dataframe tbody tr th {\n",
              "        vertical-align: top;\n",
              "    }\n",
              "\n",
              "    .dataframe thead th {\n",
              "        text-align: right;\n",
              "    }\n",
              "</style>\n",
              "<table border=\"1\" class=\"dataframe\">\n",
              "  <thead>\n",
              "    <tr style=\"text-align: right;\">\n",
              "      <th></th>\n",
              "      <th>ref</th>\n",
              "      <th>categoria</th>\n",
              "      <th>titulo</th>\n",
              "      <th>preco</th>\n",
              "      <th>tags</th>\n",
              "      <th>descricao</th>\n",
              "    </tr>\n",
              "  </thead>\n",
              "  <tbody>\n",
              "    <tr>\n",
              "      <th>0</th>\n",
              "      <td>B4084600</td>\n",
              "      <td>rings</td>\n",
              "      <td>Love ring</td>\n",
              "      <td>1,650.00</td>\n",
              "      <td>yellow gold</td>\n",
              "      <td>Love ring, 18K yellow gold. Width: 5.5mm.</td>\n",
              "    </tr>\n",
              "    <tr>\n",
              "      <th>1</th>\n",
              "      <td>B4084900</td>\n",
              "      <td>rings</td>\n",
              "      <td>Love ring</td>\n",
              "      <td>3,650.00</td>\n",
              "      <td>platinum</td>\n",
              "      <td>Love ring, 950/1000 platinum. Width: 5.5mm.</td>\n",
              "    </tr>\n",
              "    <tr>\n",
              "      <th>2</th>\n",
              "      <td>B4084800</td>\n",
              "      <td>rings</td>\n",
              "      <td>Love ring</td>\n",
              "      <td>1,650.00</td>\n",
              "      <td>pink gold</td>\n",
              "      <td>Love ring, 18K rose gold. Width: 5.5mm.</td>\n",
              "    </tr>\n",
              "    <tr>\n",
              "      <th>3</th>\n",
              "      <td>B4084700</td>\n",
              "      <td>rings</td>\n",
              "      <td>Love ring</td>\n",
              "      <td>1,770.00</td>\n",
              "      <td>white gold</td>\n",
              "      <td>Love ring, 18K white gold. Width: 5.5mm.</td>\n",
              "    </tr>\n",
              "    <tr>\n",
              "      <th>4</th>\n",
              "      <td>B4085000</td>\n",
              "      <td>rings</td>\n",
              "      <td>Love wedding band</td>\n",
              "      <td>1,070.00</td>\n",
              "      <td>yellow gold</td>\n",
              "      <td>Love wedding band, 18K yellow gold. Width: 3.6mm.</td>\n",
              "    </tr>\n",
              "  </tbody>\n",
              "</table>\n",
              "</div>"
            ],
            "text/plain": [
              "         ref  ...                                          descricao\n",
              "0   B4084600  ...          Love ring, 18K yellow gold. Width: 5.5mm.\n",
              "1   B4084900  ...        Love ring, 950/1000 platinum. Width: 5.5mm.\n",
              "2   B4084800  ...            Love ring, 18K rose gold. Width: 5.5mm.\n",
              "3   B4084700  ...           Love ring, 18K white gold. Width: 5.5mm.\n",
              "4   B4085000  ...  Love wedding band, 18K yellow gold. Width: 3.6mm.\n",
              "\n",
              "[5 rows x 6 columns]"
            ]
          },
          "metadata": {},
          "execution_count": 6
        }
      ]
    },
    {
      "cell_type": "code",
      "metadata": {
        "colab": {
          "base_uri": "https://localhost:8080/"
        },
        "id": "QfcETVLTli9X",
        "outputId": "9c3be17b-7825-4e71-f6f0-8964d45ff40f"
      },
      "source": [
        "#Checando existencia de dados nulos\n",
        "df.isnull().sum()"
      ],
      "execution_count": 7,
      "outputs": [
        {
          "output_type": "execute_result",
          "data": {
            "text/plain": [
              "ref          0\n",
              "categoria    0\n",
              "titulo       0\n",
              "preco        0\n",
              "tags         0\n",
              "descricao    0\n",
              "dtype: int64"
            ]
          },
          "metadata": {},
          "execution_count": 7
        }
      ]
    },
    {
      "cell_type": "code",
      "metadata": {
        "colab": {
          "base_uri": "https://localhost:8080/",
          "height": 297
        },
        "id": "5kxVpCQrZict",
        "outputId": "6dd4669d-8e13-4bd1-8506-b3d3f11939b7"
      },
      "source": [
        "#Estatistica rápida\n",
        "df.describe()"
      ],
      "execution_count": 8,
      "outputs": [
        {
          "output_type": "execute_result",
          "data": {
            "text/html": [
              "<div>\n",
              "<style scoped>\n",
              "    .dataframe tbody tr th:only-of-type {\n",
              "        vertical-align: middle;\n",
              "    }\n",
              "\n",
              "    .dataframe tbody tr th {\n",
              "        vertical-align: top;\n",
              "    }\n",
              "\n",
              "    .dataframe thead th {\n",
              "        text-align: right;\n",
              "    }\n",
              "</style>\n",
              "<table border=\"1\" class=\"dataframe\">\n",
              "  <thead>\n",
              "    <tr style=\"text-align: right;\">\n",
              "      <th></th>\n",
              "      <th>preco</th>\n",
              "    </tr>\n",
              "  </thead>\n",
              "  <tbody>\n",
              "    <tr>\n",
              "      <th>count</th>\n",
              "      <td>692.00</td>\n",
              "    </tr>\n",
              "    <tr>\n",
              "      <th>mean</th>\n",
              "      <td>27,057.17</td>\n",
              "    </tr>\n",
              "    <tr>\n",
              "      <th>std</th>\n",
              "      <td>54,549.44</td>\n",
              "    </tr>\n",
              "    <tr>\n",
              "      <th>min</th>\n",
              "      <td>500.00</td>\n",
              "    </tr>\n",
              "    <tr>\n",
              "      <th>25%</th>\n",
              "      <td>2,620.00</td>\n",
              "    </tr>\n",
              "    <tr>\n",
              "      <th>50%</th>\n",
              "      <td>6,800.00</td>\n",
              "    </tr>\n",
              "    <tr>\n",
              "      <th>75%</th>\n",
              "      <td>22,225.00</td>\n",
              "    </tr>\n",
              "    <tr>\n",
              "      <th>max</th>\n",
              "      <td>370,000.00</td>\n",
              "    </tr>\n",
              "  </tbody>\n",
              "</table>\n",
              "</div>"
            ],
            "text/plain": [
              "                     preco\n",
              "count               692.00\n",
              "mean             27,057.17\n",
              "std              54,549.44\n",
              "min                 500.00\n",
              "25%               2,620.00\n",
              "50%               6,800.00\n",
              "75%              22,225.00\n",
              "max             370,000.00"
            ]
          },
          "metadata": {},
          "execution_count": 8
        }
      ]
    },
    {
      "cell_type": "code",
      "metadata": {
        "colab": {
          "base_uri": "https://localhost:8080/",
          "height": 235
        },
        "id": "OAT_VTsC3tJL",
        "outputId": "9673cbcb-fd16-40dd-db46-3adc96365532"
      },
      "source": [
        "#Estatistica por categoria\n",
        "df.groupby(\"categoria\").describe()"
      ],
      "execution_count": 9,
      "outputs": [
        {
          "output_type": "execute_result",
          "data": {
            "text/html": [
              "<div>\n",
              "<style scoped>\n",
              "    .dataframe tbody tr th:only-of-type {\n",
              "        vertical-align: middle;\n",
              "    }\n",
              "\n",
              "    .dataframe tbody tr th {\n",
              "        vertical-align: top;\n",
              "    }\n",
              "\n",
              "    .dataframe thead tr th {\n",
              "        text-align: left;\n",
              "    }\n",
              "\n",
              "    .dataframe thead tr:last-of-type th {\n",
              "        text-align: right;\n",
              "    }\n",
              "</style>\n",
              "<table border=\"1\" class=\"dataframe\">\n",
              "  <thead>\n",
              "    <tr>\n",
              "      <th></th>\n",
              "      <th colspan=\"8\" halign=\"left\">preco</th>\n",
              "    </tr>\n",
              "    <tr>\n",
              "      <th></th>\n",
              "      <th>count</th>\n",
              "      <th>mean</th>\n",
              "      <th>std</th>\n",
              "      <th>min</th>\n",
              "      <th>25%</th>\n",
              "      <th>50%</th>\n",
              "      <th>75%</th>\n",
              "      <th>max</th>\n",
              "    </tr>\n",
              "    <tr>\n",
              "      <th>categoria</th>\n",
              "      <th></th>\n",
              "      <th></th>\n",
              "      <th></th>\n",
              "      <th></th>\n",
              "      <th></th>\n",
              "      <th></th>\n",
              "      <th></th>\n",
              "      <th></th>\n",
              "    </tr>\n",
              "  </thead>\n",
              "  <tbody>\n",
              "    <tr>\n",
              "      <th>bracelets</th>\n",
              "      <td>160.00</td>\n",
              "      <td>44,390.19</td>\n",
              "      <td>71,111.59</td>\n",
              "      <td>580.00</td>\n",
              "      <td>5,212.50</td>\n",
              "      <td>11,800.00</td>\n",
              "      <td>43,225.00</td>\n",
              "      <td>331,000.00</td>\n",
              "    </tr>\n",
              "    <tr>\n",
              "      <th>earrings</th>\n",
              "      <td>118.00</td>\n",
              "      <td>23,653.39</td>\n",
              "      <td>42,815.18</td>\n",
              "      <td>500.00</td>\n",
              "      <td>2,917.50</td>\n",
              "      <td>8,900.00</td>\n",
              "      <td>22,100.00</td>\n",
              "      <td>251,000.00</td>\n",
              "    </tr>\n",
              "    <tr>\n",
              "      <th>necklaces</th>\n",
              "      <td>155.00</td>\n",
              "      <td>34,155.61</td>\n",
              "      <td>69,528.17</td>\n",
              "      <td>570.00</td>\n",
              "      <td>2,520.00</td>\n",
              "      <td>5,100.00</td>\n",
              "      <td>27,200.00</td>\n",
              "      <td>370,000.00</td>\n",
              "    </tr>\n",
              "    <tr>\n",
              "      <th>rings</th>\n",
              "      <td>259.00</td>\n",
              "      <td>13,652.16</td>\n",
              "      <td>27,094.57</td>\n",
              "      <td>690.00</td>\n",
              "      <td>2,210.00</td>\n",
              "      <td>4,500.00</td>\n",
              "      <td>11,050.00</td>\n",
              "      <td>217,000.00</td>\n",
              "    </tr>\n",
              "  </tbody>\n",
              "</table>\n",
              "</div>"
            ],
            "text/plain": [
              "                         preco  ...                     \n",
              "                         count  ...                  max\n",
              "categoria                       ...                     \n",
              "bracelets               160.00  ...           331,000.00\n",
              "earrings                118.00  ...           251,000.00\n",
              "necklaces               155.00  ...           370,000.00\n",
              "rings                   259.00  ...           217,000.00\n",
              "\n",
              "[4 rows x 8 columns]"
            ]
          },
          "metadata": {},
          "execution_count": 9
        }
      ]
    },
    {
      "cell_type": "code",
      "metadata": {
        "colab": {
          "base_uri": "https://localhost:8080/",
          "height": 204
        },
        "id": "u-t2lXtM52te",
        "outputId": "78de4621-aa42-4b9e-d7fb-b91791a9bc38"
      },
      "source": [
        "#Os maiores preços\n",
        "df.nlargest(5,\"preco\")"
      ],
      "execution_count": 10,
      "outputs": [
        {
          "output_type": "execute_result",
          "data": {
            "text/html": [
              "<div>\n",
              "<style scoped>\n",
              "    .dataframe tbody tr th:only-of-type {\n",
              "        vertical-align: middle;\n",
              "    }\n",
              "\n",
              "    .dataframe tbody tr th {\n",
              "        vertical-align: top;\n",
              "    }\n",
              "\n",
              "    .dataframe thead th {\n",
              "        text-align: right;\n",
              "    }\n",
              "</style>\n",
              "<table border=\"1\" class=\"dataframe\">\n",
              "  <thead>\n",
              "    <tr style=\"text-align: right;\">\n",
              "      <th></th>\n",
              "      <th>ref</th>\n",
              "      <th>categoria</th>\n",
              "      <th>titulo</th>\n",
              "      <th>preco</th>\n",
              "      <th>tags</th>\n",
              "      <th>descricao</th>\n",
              "    </tr>\n",
              "  </thead>\n",
              "  <tbody>\n",
              "    <tr>\n",
              "      <th>533</th>\n",
              "      <td>H7000130</td>\n",
              "      <td>necklaces</td>\n",
              "      <td>Reflection de Cartier necklace</td>\n",
              "      <td>370,000.00</td>\n",
              "      <td>white gold, diamonds</td>\n",
              "      <td>Reflection de Cartier necklace, 18K white gold...</td>\n",
              "    </tr>\n",
              "    <tr>\n",
              "      <th>459</th>\n",
              "      <td>H7000156</td>\n",
              "      <td>necklaces</td>\n",
              "      <td>Cactus de Cartier Necklace</td>\n",
              "      <td>342,000.00</td>\n",
              "      <td>yellow gold, emeralds, diamonds</td>\n",
              "      <td>Cactus de Cartier necklace, 18K yellow gold, e...</td>\n",
              "    </tr>\n",
              "    <tr>\n",
              "      <th>390</th>\n",
              "      <td>H6004717</td>\n",
              "      <td>bracelets</td>\n",
              "      <td>Juste un Clou bracelet</td>\n",
              "      <td>331,000.00</td>\n",
              "      <td>white gold, diamonds</td>\n",
              "      <td>Juste un Clou cuff bracelet, 18K white gold, s...</td>\n",
              "    </tr>\n",
              "    <tr>\n",
              "      <th>490</th>\n",
              "      <td>HP701146</td>\n",
              "      <td>necklaces</td>\n",
              "      <td>Faune et Flore de Cartier necklace</td>\n",
              "      <td>331,000.00</td>\n",
              "      <td>platinum, emeralds, diamonds</td>\n",
              "      <td>Necklace - platinum, emeralds, one 0.13-carat ...</td>\n",
              "    </tr>\n",
              "    <tr>\n",
              "      <th>389</th>\n",
              "      <td>HP601192</td>\n",
              "      <td>bracelets</td>\n",
              "      <td>Juste un Clou bracelet</td>\n",
              "      <td>312,000.00</td>\n",
              "      <td>white gold, diamonds</td>\n",
              "      <td>Bracelet - 18K white gold, 1,752 brilliant-cut...</td>\n",
              "    </tr>\n",
              "  </tbody>\n",
              "</table>\n",
              "</div>"
            ],
            "text/plain": [
              "           ref  ...                                          descricao\n",
              "533   H7000130  ...  Reflection de Cartier necklace, 18K white gold...\n",
              "459   H7000156  ...  Cactus de Cartier necklace, 18K yellow gold, e...\n",
              "390   H6004717  ...  Juste un Clou cuff bracelet, 18K white gold, s...\n",
              "490   HP701146  ...  Necklace - platinum, emeralds, one 0.13-carat ...\n",
              "389   HP601192  ...  Bracelet - 18K white gold, 1,752 brilliant-cut...\n",
              "\n",
              "[5 rows x 6 columns]"
            ]
          },
          "metadata": {},
          "execution_count": 10
        }
      ]
    },
    {
      "cell_type": "code",
      "metadata": {
        "colab": {
          "base_uri": "https://localhost:8080/",
          "height": 204
        },
        "id": "zsZAsOQO6kTM",
        "outputId": "0861b136-255c-413e-f552-f31673b9c076"
      },
      "source": [
        "#Os menores preços\n",
        "df.nsmallest(5,\"preco\")"
      ],
      "execution_count": 11,
      "outputs": [
        {
          "output_type": "execute_result",
          "data": {
            "text/html": [
              "<div>\n",
              "<style scoped>\n",
              "    .dataframe tbody tr th:only-of-type {\n",
              "        vertical-align: middle;\n",
              "    }\n",
              "\n",
              "    .dataframe tbody tr th {\n",
              "        vertical-align: top;\n",
              "    }\n",
              "\n",
              "    .dataframe thead th {\n",
              "        text-align: right;\n",
              "    }\n",
              "</style>\n",
              "<table border=\"1\" class=\"dataframe\">\n",
              "  <thead>\n",
              "    <tr style=\"text-align: right;\">\n",
              "      <th></th>\n",
              "      <th>ref</th>\n",
              "      <th>categoria</th>\n",
              "      <th>titulo</th>\n",
              "      <th>preco</th>\n",
              "      <th>tags</th>\n",
              "      <th>descricao</th>\n",
              "    </tr>\n",
              "  </thead>\n",
              "  <tbody>\n",
              "    <tr>\n",
              "      <th>579</th>\n",
              "      <td>B8301421</td>\n",
              "      <td>earrings</td>\n",
              "      <td>Love single earring</td>\n",
              "      <td>500.00</td>\n",
              "      <td>yellow gold</td>\n",
              "      <td>Love single earring, 18K yellow gold. Diameter...</td>\n",
              "    </tr>\n",
              "    <tr>\n",
              "      <th>542</th>\n",
              "      <td>B7060700</td>\n",
              "      <td>necklaces</td>\n",
              "      <td>Chain necklace</td>\n",
              "      <td>570.00</td>\n",
              "      <td>yellow gold</td>\n",
              "      <td>Chain necklace, 18K yellow gold.</td>\n",
              "    </tr>\n",
              "    <tr>\n",
              "      <th>550</th>\n",
              "      <td>B3153111</td>\n",
              "      <td>necklaces</td>\n",
              "      <td>Cross pendant</td>\n",
              "      <td>570.00</td>\n",
              "      <td>yellow gold</td>\n",
              "      <td>Cross pendant, 18K yellow gold</td>\n",
              "    </tr>\n",
              "    <tr>\n",
              "      <th>551</th>\n",
              "      <td>B3153112</td>\n",
              "      <td>necklaces</td>\n",
              "      <td>Star pendant</td>\n",
              "      <td>570.00</td>\n",
              "      <td>yellow gold</td>\n",
              "      <td>Star pendant, 18K yellow gold</td>\n",
              "    </tr>\n",
              "    <tr>\n",
              "      <th>552</th>\n",
              "      <td>B3153113</td>\n",
              "      <td>necklaces</td>\n",
              "      <td>Hand of Fatima pendant</td>\n",
              "      <td>570.00</td>\n",
              "      <td>yellow gold</td>\n",
              "      <td>Hand of Fatima pendant, 18K yellow gold</td>\n",
              "    </tr>\n",
              "  </tbody>\n",
              "</table>\n",
              "</div>"
            ],
            "text/plain": [
              "           ref  ...                                          descricao\n",
              "579   B8301421  ...  Love single earring, 18K yellow gold. Diameter...\n",
              "542   B7060700  ...                   Chain necklace, 18K yellow gold.\n",
              "550   B3153111  ...                     Cross pendant, 18K yellow gold\n",
              "551   B3153112  ...                      Star pendant, 18K yellow gold\n",
              "552   B3153113  ...            Hand of Fatima pendant, 18K yellow gold\n",
              "\n",
              "[5 rows x 6 columns]"
            ]
          },
          "metadata": {},
          "execution_count": 11
        }
      ]
    },
    {
      "cell_type": "code",
      "metadata": {
        "colab": {
          "base_uri": "https://localhost:8080/",
          "height": 294
        },
        "id": "RaPz253i2lhm",
        "outputId": "b6f2bebe-7f24-4b14-9002-3ab994f58b73"
      },
      "source": [
        "#Grafico de menores preços por categoria\n",
        "df.groupby(\"categoria\")[\"preco\"].min().plot.barh(title=\"Menores preços por categoria\")\n",
        "plt.ylabel(\"Categoria\")\n",
        "plt.xlabel(\"Preço\");\n"
      ],
      "execution_count": 12,
      "outputs": [
        {
          "output_type": "display_data",
          "data": {
            "image/png": "[encoded data removed]",
            "text/plain": [
              "<Figure size 432x288 with 1 Axes>"
            ]
          },
          "metadata": {
            "needs_background": "light"
          }
        }
      ]
    },
    {
      "cell_type": "code",
      "metadata": {
        "colab": {
          "base_uri": "https://localhost:8080/",
          "height": 294
        },
        "id": "ug08QUeZAOBf",
        "outputId": "c7d73af6-9147-492a-9862-0c911b6690e5"
      },
      "source": [
        "#Grafico de preços médios por categoria\n",
        "df.groupby(\"categoria\")[\"preco\"].mean().plot.barh(title=\"Preços médios por categoria\")\n",
        "plt.ylabel(\"Categoria\")\n",
        "plt.xlabel(\"Preço\");"
      ],
      "execution_count": 13,
      "outputs": [
        {
          "output_type": "display_data",
          "data": {
            "image/png": "[encoded data removed]",
            "text/plain": [
              "<Figure size 432x288 with 1 Axes>"
            ]
          },
          "metadata": {
            "needs_background": "light"
          }
        }
      ]
    },
    {
      "cell_type": "code",
      "metadata": {
        "colab": {
          "base_uri": "https://localhost:8080/",
          "height": 294
        },
        "id": "B-l7YXg1AOS3",
        "outputId": "78076cd0-628e-4689-f78e-ea8fff7d0a69"
      },
      "source": [
        "#Grafico de maiores preços por categoria\n",
        "df.groupby(\"categoria\")[\"preco\"].max().plot.barh(title=\"Maiores preços por categoria\")\n",
        "plt.ylabel(\"Categoria\")\n",
        "plt.xlabel(\"Preço\");"
      ],
      "execution_count": 14,
      "outputs": [
        {
          "output_type": "display_data",
          "data": {
            "image/png": "[encoded data removed]",
            "text/plain": [
              "<Figure size 432x288 with 1 Axes>"
            ]
          },
          "metadata": {
            "needs_background": "light"
          }
        }
      ]
    },
    {
      "cell_type": "code",
      "metadata": {
        "colab": {
          "base_uri": "https://localhost:8080/",
          "height": 265
        },
        "id": "sIpqQloy6hNn",
        "outputId": "e9c96a20-407f-4d12-bba5-a7245cf54c59"
      },
      "source": [
        "#Grafico\n",
        "plt.boxplot(df[\"preco\"]);"
      ],
      "execution_count": 15,
      "outputs": [
        {
          "output_type": "display_data",
          "data": {
            "image/png": "[encoded data removed]",
            "text/plain": [
              "<Figure size 432x288 with 1 Axes>"
            ]
          },
          "metadata": {
            "needs_background": "light"
          }
        }
      ]
    },
    {
      "cell_type": "code",
      "metadata": {
        "colab": {
          "base_uri": "https://localhost:8080/",
          "height": 265
        },
        "id": "AoKELdm2EmgS",
        "outputId": "cde5a02e-a89e-4037-e2d2-faf3771f5457"
      },
      "source": [
        "#Grafico da quantidade de produtos ofertados por categoria\n",
        "df.groupby(df[\"categoria\"])[\"ref\"].count().plot.pie()"
      ],
      "execution_count": 16,
      "outputs": [
        {
          "output_type": "execute_result",
          "data": {
            "text/plain": [
              "<matplotlib.axes._subplots.AxesSubplot at 0x7f8b7eff9710>"
            ]
          },
          "metadata": {},
          "execution_count": 16
        },
        {
          "output_type": "display_data",
          "data": {
            "image/png": "[encoded data removed]",
            "text/plain": [
              "<Figure size 432x288 with 1 Axes>"
            ]
          },
          "metadata": {}
        }
      ]
    },
    {
      "cell_type": "markdown",
      "metadata": {
        "id": "uwqmlvdaFC0f"
      },
      "source": [
        "Explorando os dados desse catálogo de jóias, observamos **692 produtos** de **4 categorias**.\n",
        "\n",
        "\n",
        "*   os ***rings*** tem a melhor média de preços e a maior \n",
        "quantidade de produtos sendo ofertados no catálogo (259).\n",
        "*   os ***earings*** tem o um produto de preço 500, que é o menor preço dentro de todos os produtos e categorias.\n",
        "*   os ***necklaces*** tem o produto de maior preço 370000\n",
        "*   os ***bracelets*** tem a maior média de preços.\n",
        "\n",
        "Observamos uma serie de produtos outliers que influenciaram na calculo da média, conforme ilustra o grafico de BoxPlot. Destacamos a mediana de preços de 6800.\n",
        "\n",
        "Dos 5 produtos com menores valores, todos são da tag \"yellow gold\". E dos 5 produtos com maiores valores todos tem em sua tag \"diamonds\"."
      ]
    }
  ]
}